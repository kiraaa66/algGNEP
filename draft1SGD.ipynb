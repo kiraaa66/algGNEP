{
  "nbformat": 4,
  "nbformat_minor": 0,
  "metadata": {
    "colab": {
      "provenance": [],
      "gpuType": "T4",
      "authorship_tag": "ABX9TyOgNevF+Rq7gykgBFiIVilf",
      "include_colab_link": true
    },
    "kernelspec": {
      "name": "python3",
      "display_name": "Python 3"
    },
    "language_info": {
      "name": "python"
    },
    "gpuClass": "standard"
  },
  "cells": [
    {
      "cell_type": "markdown",
      "metadata": {
        "id": "view-in-github",
        "colab_type": "text"
      },
      "source": [
        "<a href=\"https://colab.research.google.com/github/kiraaa66/algGNEP/blob/main/draft1SGD.ipynb\" target=\"_parent\"><img src=\"https://colab.research.google.com/assets/colab-badge.svg\" alt=\"Open In Colab\"/></a>"
      ]
    },
    {
      "cell_type": "markdown",
      "source": [
        "# Libraries and Such"
      ],
      "metadata": {
        "id": "n6iCW5aPcusu"
      }
    },
    {
      "cell_type": "code",
      "source": [
        "import numpy as np\n",
        "from scipy.optimize import minimize\n",
        "#!python -m pip install -U pandas\n",
        "import pandas as pd\n",
        "import itertools\n",
        "import jax.numpy as jnp\n",
        "from jax import random as jrandom\n",
        "from jax import nn as jnn\n",
        "from jax import jit\n",
        "import numpy as np\n",
        "from numpy import random\n",
        "\n",
        "import random\n",
        "import math\n",
        "import time\n",
        "import sys\n",
        "import jax\n",
        "import matplotlib.pyplot as plt\n",
        "from scipy.optimize import minimize, Bounds, LinearConstraint, NonlinearConstraint\n",
        "from scipy import stats\n",
        "#!pip install scikit-learn\n",
        "from sklearn.linear_model import LinearRegression\n",
        "\n",
        "from sklearn.preprocessing import PolynomialFeatures"
      ],
      "metadata": {
        "id": "BtOk1oqITwXk"
      },
      "execution_count": null,
      "outputs": []
    },
    {
      "cell_type": "markdown",
      "source": [
        "# Randomize Function"
      ],
      "metadata": {
        "id": "rfF1FCJblWWC"
      }
    },
    {
      "cell_type": "code",
      "source": [
        "def randomY(maxY, minY):\n",
        "  return random.uniform(minY, maxY)"
      ],
      "metadata": {
        "id": "0NnWiyD2lYJ1"
      },
      "execution_count": null,
      "outputs": []
    },
    {
      "cell_type": "markdown",
      "source": [
        "#Generate & Set Children"
      ],
      "metadata": {
        "id": "z3GnRZTe4IxY"
      }
    },
    {
      "cell_type": "code",
      "source": [
        "def generateChild():\n",
        "  #https://numpy.org/doc/stable/reference/random/generated/numpy.random.normal.html\n",
        "  #https://www.w3schools.com/python/numpy/numpy_random_normal.asp\n",
        "  alpha = np.random.normal(loc = 0.0, scale = 1.0, size = 1)\n",
        "  child = np.random.normal(loc = 0.0, scale = abs(math.pow(alpha, num)), size = 50)\n",
        "  print(child)\n",
        "  return child"
      ],
      "metadata": {
        "id": "DdeyFfQh4LBG"
      },
      "execution_count": null,
      "outputs": []
    },
    {
      "cell_type": "markdown",
      "source": [
        "# Declaring All Arrays"
      ],
      "metadata": {
        "id": "dkqIHkdwbZyp"
      }
    },
    {
      "cell_type": "code",
      "source": [
        "#https://www.studytonight.com/python-howtos/how-to-declare-an-array-in-python\n",
        "#https://linuxhint.com/numpy-create-2d-array/\n",
        "#https://www.pluralsight.com/guides/different-ways-create-numpy-arrays\n",
        "setXY = np.zeros(1000)\n",
        "setXY = setXY.reshape(500,2)\n",
        "\n",
        "setX = np.empty(500, dtype=object)\n",
        "setY = np.empty(500, dtype=object)\n",
        "\n",
        "children = np.zeros(5000)\n",
        "children = children.reshape(100, 50)\n",
        "\n"
      ],
      "metadata": {
        "id": "zPX8Z6KKbcg2"
      },
      "execution_count": null,
      "outputs": []
    },
    {
      "cell_type": "markdown",
      "source": [
        "# Runthrough of Code"
      ],
      "metadata": {
        "id": "tBdFk_XhcpF5"
      }
    },
    {
      "cell_type": "code",
      "source": [
        "#initializing all of the points\n",
        "from ctypes import set_errno\n",
        "\n",
        "num = 1\n",
        "val = 0\n",
        "#https://docs.python.org/3/library/random.html\n",
        "  \n",
        "setX = np.random.uniform(low=0.0, high=1.0, size = 500)  \n",
        "setY = np.random.uniform(low=0.0, high=1.0, size = 500)  \n",
        "#set all of the points at once\n",
        "\n",
        "setXY[:,0] = setX\n",
        "setXY[:,1] = setY\n",
        "\n",
        "points = generateChild()\n",
        "\n",
        "#print(point)\n",
        "\n",
        "#https://www.geeksforgeeks.org/find-the-maximum-and-minimum-element-in-a-numpy-array/\n",
        "lowXpoint = np.min(setXY[:,0])\n",
        "highXpoint = np.max(setXY[:,1])\n",
        "\n",
        "\n",
        "num += 1\n"
      ],
      "metadata": {
        "id": "OCuNZdIii3Zd",
        "colab": {
          "base_uri": "https://localhost:8080/"
        },
        "outputId": "875472b4-ddc1-4da8-bd0e-25de9b7e6493"
      },
      "execution_count": null,
      "outputs": [
        {
          "output_type": "stream",
          "name": "stdout",
          "text": [
            "[-0.08177653  0.21024644  0.12492587 -0.23449688  0.14368794 -0.27286213\n",
            " -0.19424671 -0.0290026  -0.04798241 -0.12605624 -0.22990302 -0.03563924\n",
            " -0.48037601 -0.44360288 -0.16781243 -0.51667951 -0.33165627  0.15263082\n",
            " -0.06466916  0.18707049  0.08288848  0.35994564 -0.56747649  0.1593733\n",
            " -0.19250554 -0.08405528  0.01084415  0.08500076  0.10045985  0.1682894\n",
            " -0.22032037  0.31605356 -0.28339876 -0.38205654  0.10175473  0.13959755\n",
            " -0.43152826 -0.11610536 -0.38527061 -0.18931438  0.59939816  0.11861363\n",
            " -0.29386373 -0.20010123 -0.02466929  0.23072368  0.02130172 -0.18919982\n",
            " -0.05113083  0.07114048]\n"
          ]
        }
      ]
    }
  ]
}